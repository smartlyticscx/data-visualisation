{
 "metadata": {
  "language_info": {
   "codemirror_mode": {
    "name": "ipython",
    "version": 3
   },
   "file_extension": ".py",
   "mimetype": "text/x-python",
   "name": "python",
   "nbconvert_exporter": "python",
   "pygments_lexer": "ipython3",
   "version": "3.8.2-final"
  },
  "orig_nbformat": 2,
  "kernelspec": {
   "name": "python_defaultSpec_1598523110400",
   "display_name": "Python 3.8.2 64-bit"
  }
 },
 "nbformat": 4,
 "nbformat_minor": 2,
 "cells": [
  {
   "cell_type": "code",
   "execution_count": 1,
   "metadata": {},
   "outputs": [],
   "source": [
    "import requests\n",
    "import pandas as pd\n",
    "import plotly.graph_objects as go"
   ]
  },
  {
   "cell_type": "code",
   "execution_count": 2,
   "metadata": {
    "tags": []
   },
   "outputs": [],
   "source": [
    "class GithubIssues:\n",
    "    \"\"\"\n",
    "    Initial code for API.\n",
    "\n",
    "    GithubIssues.set_repos accepts a list of the form:\n",
    "    ['filetrust/mvp-icap-service',\n",
    "     'filetrust/mvp-icap-cloud',\n",
    "      'filetrust/mvp-icap-squid-cache-proxy',\n",
    "      'filetrust/rebuild-k8s-filetypedetection',\n",
    "      'filetrust/icap-performance-tests',\n",
    "      'filetrust/rebuild-k8s']\n",
    "\n",
    "    Github.plot_totals will generate a simple Card visual with a repo slicer dropdown.\n",
    "    \"\"\"\n",
    "    def __init__(self):\n",
    "        self._api_url = 'https://api.github.com/repos/'\n",
    "        self._df_list = None\n",
    "\n",
    "    def _issue_response(self,repo):\n",
    "        \"\"\"\n",
    "        Returns a json list of issues for a specified repo.\n",
    "        \"\"\"\n",
    "        response = requests.get(repo.join((self._api_url,'/issues')))\n",
    "        if response.ok:\n",
    "            return response\n",
    "        else:\n",
    "            raise Exception(' '.join(('Repo',repo,'not found.')))\n",
    "\n",
    "    def _issue_json(self,repo):\n",
    "        \"\"\"\n",
    "        Returns a json list of issues for a specified repo.\n",
    "        \"\"\"\n",
    "        return self._issue_response(repo).json()   \n",
    "\n",
    "    def _set_df_list(self,repo_list):\n",
    "        \"\"\"\n",
    "        Returns a list of Pandas DataFrames of issues for all repos.\n",
    "        \"\"\"\n",
    "        self._df_list= [pd.DataFrame(self._issue_json(repo)) for repo in repo_list]\n",
    "\n",
    "    def set_repos(self,repo_list):\n",
    "        \"\"\"\n",
    "        Accepts a list of repos of the form:\n",
    "        ['filetrust/mvp-icap-service',\n",
    "        'filetrust/mvp-icap-cloud',\n",
    "        'filetrust/mvp-icap-squid-cache-proxy',\n",
    "        'filetrust/rebuild-k8s-filetypedetection',\n",
    "        'filetrust/icap-performance-tests',\n",
    "        'filetrust/rebuild-k8s']\n",
    "        \"\"\"\n",
    "        self.repo_list=repo_list\n",
    "        self._set_df_list(repo_list)\n",
    "        return self\n",
    "\n",
    "    def plot_total(self):\n",
    "        \"\"\"\n",
    "\n",
    "        \"\"\"\n",
    "        off_white = 'rgb(200,200,200)'\n",
    "        dark_grey = 'rgb(40,40,40)'\n",
    "\n",
    "        if self._df_list is not None:\n",
    "            fig=go.Figure()\n",
    "            for n,repo,df in zip(range(len(self._df_list)),self.repo_list,self._df_list):\n",
    "                fig.add_trace(go.Indicator(mode = \"number+delta\",number={'suffix': ' Issues'},\n",
    "                value = len(df),title = {\"text\": 'Repo: ' + repo}, delta={'reference':0},visible = n==0))\n",
    "\n",
    "            fig.update_layout(\n",
    "            updatemenus=[\n",
    "                dict(\n",
    "                    active=0,\n",
    "                    buttons=list([\n",
    "                        dict(label=repo,\n",
    "                            method=\"update\",\n",
    "                            args=[{\"visible\": [i==j for j in range(len(self.repo_list))]}]) for i,repo in enumerate(self.repo_list)\n",
    "                    ]),  x=0.75,y=2.0,\n",
    "                ), \n",
    "            ],paper_bgcolor=dark_grey,font={'color':off_white})\n",
    "\n",
    "            return fig\n",
    "        else:\n",
    "            raise Exception('set_repos needs to be called before visuals can be created')\n",
    "\n"
   ]
  },
  {
   "cell_type": "code",
   "execution_count": 3,
   "metadata": {},
   "outputs": [
    {
     "output_type": "display_data",
     "data": {
      "application/vnd.plotly.v1+json": {
       "config": {
        "plotlyServerURL": "https://plot.ly"
       },
       "data": [
        {
         "delta": {
          "reference": 0
         },
         "mode": "number+delta",
         "number": {
          "suffix": " Issues"
         },
         "title": {
          "text": "Repo: filetrust/mvp-icap-service"
         },
         "type": "indicator",
         "value": 7,
         "visible": true
        },
        {
         "delta": {
          "reference": 0
         },
         "mode": "number+delta",
         "number": {
          "suffix": " Issues"
         },
         "title": {
          "text": "Repo: filetrust/mvp-icap-cloud"
         },
         "type": "indicator",
         "value": 12,
         "visible": false
        },
        {
         "delta": {
          "reference": 0
         },
         "mode": "number+delta",
         "number": {
          "suffix": " Issues"
         },
         "title": {
          "text": "Repo: filetrust/mvp-icap-squid-cache-proxy"
         },
         "type": "indicator",
         "value": 11,
         "visible": false
        },
        {
         "delta": {
          "reference": 0
         },
         "mode": "number+delta",
         "number": {
          "suffix": " Issues"
         },
         "title": {
          "text": "Repo: filetrust/rebuild-k8s-filetypedetection"
         },
         "type": "indicator",
         "value": 1,
         "visible": false
        },
        {
         "delta": {
          "reference": 0
         },
         "mode": "number+delta",
         "number": {
          "suffix": " Issues"
         },
         "title": {
          "text": "Repo: filetrust/icap-performance-tests"
         },
         "type": "indicator",
         "value": 16,
         "visible": false
        },
        {
         "delta": {
          "reference": 0
         },
         "mode": "number+delta",
         "number": {
          "suffix": " Issues"
         },
         "title": {
          "text": "Repo: filetrust/rebuild-k8s"
         },
         "type": "indicator",
         "value": 4,
         "visible": false
        }
       ],
       "layout": {
        "font": {
         "color": "rgb(200,200,200)"
        },
        "paper_bgcolor": "rgb(40,40,40)",
        "template": {
         "data": {
          "bar": [
           {
            "error_x": {
             "color": "#2a3f5f"
            },
            "error_y": {
             "color": "#2a3f5f"
            },
            "marker": {
             "line": {
              "color": "#E5ECF6",
              "width": 0.5
             }
            },
            "type": "bar"
           }
          ],
          "barpolar": [
           {
            "marker": {
             "line": {
              "color": "#E5ECF6",
              "width": 0.5
             }
            },
            "type": "barpolar"
           }
          ],
          "carpet": [
           {
            "aaxis": {
             "endlinecolor": "#2a3f5f",
             "gridcolor": "white",
             "linecolor": "white",
             "minorgridcolor": "white",
             "startlinecolor": "#2a3f5f"
            },
            "baxis": {
             "endlinecolor": "#2a3f5f",
             "gridcolor": "white",
             "linecolor": "white",
             "minorgridcolor": "white",
             "startlinecolor": "#2a3f5f"
            },
            "type": "carpet"
           }
          ],
          "choropleth": [
           {
            "colorbar": {
             "outlinewidth": 0,
             "ticks": ""
            },
            "type": "choropleth"
           }
          ],
          "contour": [
           {
            "colorbar": {
             "outlinewidth": 0,
             "ticks": ""
            },
            "colorscale": [
             [
              0,
              "#0d0887"
             ],
             [
              0.1111111111111111,
              "#46039f"
             ],
             [
              0.2222222222222222,
              "#7201a8"
             ],
             [
              0.3333333333333333,
              "#9c179e"
             ],
             [
              0.4444444444444444,
              "#bd3786"
             ],
             [
              0.5555555555555556,
              "#d8576b"
             ],
             [
              0.6666666666666666,
              "#ed7953"
             ],
             [
              0.7777777777777778,
              "#fb9f3a"
             ],
             [
              0.8888888888888888,
              "#fdca26"
             ],
             [
              1,
              "#f0f921"
             ]
            ],
            "type": "contour"
           }
          ],
          "contourcarpet": [
           {
            "colorbar": {
             "outlinewidth": 0,
             "ticks": ""
            },
            "type": "contourcarpet"
           }
          ],
          "heatmap": [
           {
            "colorbar": {
             "outlinewidth": 0,
             "ticks": ""
            },
            "colorscale": [
             [
              0,
              "#0d0887"
             ],
             [
              0.1111111111111111,
              "#46039f"
             ],
             [
              0.2222222222222222,
              "#7201a8"
             ],
             [
              0.3333333333333333,
              "#9c179e"
             ],
             [
              0.4444444444444444,
              "#bd3786"
             ],
             [
              0.5555555555555556,
              "#d8576b"
             ],
             [
              0.6666666666666666,
              "#ed7953"
             ],
             [
              0.7777777777777778,
              "#fb9f3a"
             ],
             [
              0.8888888888888888,
              "#fdca26"
             ],
             [
              1,
              "#f0f921"
             ]
            ],
            "type": "heatmap"
           }
          ],
          "heatmapgl": [
           {
            "colorbar": {
             "outlinewidth": 0,
             "ticks": ""
            },
            "colorscale": [
             [
              0,
              "#0d0887"
             ],
             [
              0.1111111111111111,
              "#46039f"
             ],
             [
              0.2222222222222222,
              "#7201a8"
             ],
             [
              0.3333333333333333,
              "#9c179e"
             ],
             [
              0.4444444444444444,
              "#bd3786"
             ],
             [
              0.5555555555555556,
              "#d8576b"
             ],
             [
              0.6666666666666666,
              "#ed7953"
             ],
             [
              0.7777777777777778,
              "#fb9f3a"
             ],
             [
              0.8888888888888888,
              "#fdca26"
             ],
             [
              1,
              "#f0f921"
             ]
            ],
            "type": "heatmapgl"
           }
          ],
          "histogram": [
           {
            "marker": {
             "colorbar": {
              "outlinewidth": 0,
              "ticks": ""
             }
            },
            "type": "histogram"
           }
          ],
          "histogram2d": [
           {
            "colorbar": {
             "outlinewidth": 0,
             "ticks": ""
            },
            "colorscale": [
             [
              0,
              "#0d0887"
             ],
             [
              0.1111111111111111,
              "#46039f"
             ],
             [
              0.2222222222222222,
              "#7201a8"
             ],
             [
              0.3333333333333333,
              "#9c179e"
             ],
             [
              0.4444444444444444,
              "#bd3786"
             ],
             [
              0.5555555555555556,
              "#d8576b"
             ],
             [
              0.6666666666666666,
              "#ed7953"
             ],
             [
              0.7777777777777778,
              "#fb9f3a"
             ],
             [
              0.8888888888888888,
              "#fdca26"
             ],
             [
              1,
              "#f0f921"
             ]
            ],
            "type": "histogram2d"
           }
          ],
          "histogram2dcontour": [
           {
            "colorbar": {
             "outlinewidth": 0,
             "ticks": ""
            },
            "colorscale": [
             [
              0,
              "#0d0887"
             ],
             [
              0.1111111111111111,
              "#46039f"
             ],
             [
              0.2222222222222222,
              "#7201a8"
             ],
             [
              0.3333333333333333,
              "#9c179e"
             ],
             [
              0.4444444444444444,
              "#bd3786"
             ],
             [
              0.5555555555555556,
              "#d8576b"
             ],
             [
              0.6666666666666666,
              "#ed7953"
             ],
             [
              0.7777777777777778,
              "#fb9f3a"
             ],
             [
              0.8888888888888888,
              "#fdca26"
             ],
             [
              1,
              "#f0f921"
             ]
            ],
            "type": "histogram2dcontour"
           }
          ],
          "mesh3d": [
           {
            "colorbar": {
             "outlinewidth": 0,
             "ticks": ""
            },
            "type": "mesh3d"
           }
          ],
          "parcoords": [
           {
            "line": {
             "colorbar": {
              "outlinewidth": 0,
              "ticks": ""
             }
            },
            "type": "parcoords"
           }
          ],
          "pie": [
           {
            "automargin": true,
            "type": "pie"
           }
          ],
          "scatter": [
           {
            "marker": {
             "colorbar": {
              "outlinewidth": 0,
              "ticks": ""
             }
            },
            "type": "scatter"
           }
          ],
          "scatter3d": [
           {
            "line": {
             "colorbar": {
              "outlinewidth": 0,
              "ticks": ""
             }
            },
            "marker": {
             "colorbar": {
              "outlinewidth": 0,
              "ticks": ""
             }
            },
            "type": "scatter3d"
           }
          ],
          "scattercarpet": [
           {
            "marker": {
             "colorbar": {
              "outlinewidth": 0,
              "ticks": ""
             }
            },
            "type": "scattercarpet"
           }
          ],
          "scattergeo": [
           {
            "marker": {
             "colorbar": {
              "outlinewidth": 0,
              "ticks": ""
             }
            },
            "type": "scattergeo"
           }
          ],
          "scattergl": [
           {
            "marker": {
             "colorbar": {
              "outlinewidth": 0,
              "ticks": ""
             }
            },
            "type": "scattergl"
           }
          ],
          "scattermapbox": [
           {
            "marker": {
             "colorbar": {
              "outlinewidth": 0,
              "ticks": ""
             }
            },
            "type": "scattermapbox"
           }
          ],
          "scatterpolar": [
           {
            "marker": {
             "colorbar": {
              "outlinewidth": 0,
              "ticks": ""
             }
            },
            "type": "scatterpolar"
           }
          ],
          "scatterpolargl": [
           {
            "marker": {
             "colorbar": {
              "outlinewidth": 0,
              "ticks": ""
             }
            },
            "type": "scatterpolargl"
           }
          ],
          "scatterternary": [
           {
            "marker": {
             "colorbar": {
              "outlinewidth": 0,
              "ticks": ""
             }
            },
            "type": "scatterternary"
           }
          ],
          "surface": [
           {
            "colorbar": {
             "outlinewidth": 0,
             "ticks": ""
            },
            "colorscale": [
             [
              0,
              "#0d0887"
             ],
             [
              0.1111111111111111,
              "#46039f"
             ],
             [
              0.2222222222222222,
              "#7201a8"
             ],
             [
              0.3333333333333333,
              "#9c179e"
             ],
             [
              0.4444444444444444,
              "#bd3786"
             ],
             [
              0.5555555555555556,
              "#d8576b"
             ],
             [
              0.6666666666666666,
              "#ed7953"
             ],
             [
              0.7777777777777778,
              "#fb9f3a"
             ],
             [
              0.8888888888888888,
              "#fdca26"
             ],
             [
              1,
              "#f0f921"
             ]
            ],
            "type": "surface"
           }
          ],
          "table": [
           {
            "cells": {
             "fill": {
              "color": "#EBF0F8"
             },
             "line": {
              "color": "white"
             }
            },
            "header": {
             "fill": {
              "color": "#C8D4E3"
             },
             "line": {
              "color": "white"
             }
            },
            "type": "table"
           }
          ]
         },
         "layout": {
          "annotationdefaults": {
           "arrowcolor": "#2a3f5f",
           "arrowhead": 0,
           "arrowwidth": 1
          },
          "coloraxis": {
           "colorbar": {
            "outlinewidth": 0,
            "ticks": ""
           }
          },
          "colorscale": {
           "diverging": [
            [
             0,
             "#8e0152"
            ],
            [
             0.1,
             "#c51b7d"
            ],
            [
             0.2,
             "#de77ae"
            ],
            [
             0.3,
             "#f1b6da"
            ],
            [
             0.4,
             "#fde0ef"
            ],
            [
             0.5,
             "#f7f7f7"
            ],
            [
             0.6,
             "#e6f5d0"
            ],
            [
             0.7,
             "#b8e186"
            ],
            [
             0.8,
             "#7fbc41"
            ],
            [
             0.9,
             "#4d9221"
            ],
            [
             1,
             "#276419"
            ]
           ],
           "sequential": [
            [
             0,
             "#0d0887"
            ],
            [
             0.1111111111111111,
             "#46039f"
            ],
            [
             0.2222222222222222,
             "#7201a8"
            ],
            [
             0.3333333333333333,
             "#9c179e"
            ],
            [
             0.4444444444444444,
             "#bd3786"
            ],
            [
             0.5555555555555556,
             "#d8576b"
            ],
            [
             0.6666666666666666,
             "#ed7953"
            ],
            [
             0.7777777777777778,
             "#fb9f3a"
            ],
            [
             0.8888888888888888,
             "#fdca26"
            ],
            [
             1,
             "#f0f921"
            ]
           ],
           "sequentialminus": [
            [
             0,
             "#0d0887"
            ],
            [
             0.1111111111111111,
             "#46039f"
            ],
            [
             0.2222222222222222,
             "#7201a8"
            ],
            [
             0.3333333333333333,
             "#9c179e"
            ],
            [
             0.4444444444444444,
             "#bd3786"
            ],
            [
             0.5555555555555556,
             "#d8576b"
            ],
            [
             0.6666666666666666,
             "#ed7953"
            ],
            [
             0.7777777777777778,
             "#fb9f3a"
            ],
            [
             0.8888888888888888,
             "#fdca26"
            ],
            [
             1,
             "#f0f921"
            ]
           ]
          },
          "colorway": [
           "#636efa",
           "#EF553B",
           "#00cc96",
           "#ab63fa",
           "#FFA15A",
           "#19d3f3",
           "#FF6692",
           "#B6E880",
           "#FF97FF",
           "#FECB52"
          ],
          "font": {
           "color": "#2a3f5f"
          },
          "geo": {
           "bgcolor": "white",
           "lakecolor": "white",
           "landcolor": "#E5ECF6",
           "showlakes": true,
           "showland": true,
           "subunitcolor": "white"
          },
          "hoverlabel": {
           "align": "left"
          },
          "hovermode": "closest",
          "mapbox": {
           "style": "light"
          },
          "paper_bgcolor": "white",
          "plot_bgcolor": "#E5ECF6",
          "polar": {
           "angularaxis": {
            "gridcolor": "white",
            "linecolor": "white",
            "ticks": ""
           },
           "bgcolor": "#E5ECF6",
           "radialaxis": {
            "gridcolor": "white",
            "linecolor": "white",
            "ticks": ""
           }
          },
          "scene": {
           "xaxis": {
            "backgroundcolor": "#E5ECF6",
            "gridcolor": "white",
            "gridwidth": 2,
            "linecolor": "white",
            "showbackground": true,
            "ticks": "",
            "zerolinecolor": "white"
           },
           "yaxis": {
            "backgroundcolor": "#E5ECF6",
            "gridcolor": "white",
            "gridwidth": 2,
            "linecolor": "white",
            "showbackground": true,
            "ticks": "",
            "zerolinecolor": "white"
           },
           "zaxis": {
            "backgroundcolor": "#E5ECF6",
            "gridcolor": "white",
            "gridwidth": 2,
            "linecolor": "white",
            "showbackground": true,
            "ticks": "",
            "zerolinecolor": "white"
           }
          },
          "shapedefaults": {
           "line": {
            "color": "#2a3f5f"
           }
          },
          "ternary": {
           "aaxis": {
            "gridcolor": "white",
            "linecolor": "white",
            "ticks": ""
           },
           "baxis": {
            "gridcolor": "white",
            "linecolor": "white",
            "ticks": ""
           },
           "bgcolor": "#E5ECF6",
           "caxis": {
            "gridcolor": "white",
            "linecolor": "white",
            "ticks": ""
           }
          },
          "title": {
           "x": 0.05
          },
          "xaxis": {
           "automargin": true,
           "gridcolor": "white",
           "linecolor": "white",
           "ticks": "",
           "title": {
            "standoff": 15
           },
           "zerolinecolor": "white",
           "zerolinewidth": 2
          },
          "yaxis": {
           "automargin": true,
           "gridcolor": "white",
           "linecolor": "white",
           "ticks": "",
           "title": {
            "standoff": 15
           },
           "zerolinecolor": "white",
           "zerolinewidth": 2
          }
         }
        },
        "updatemenus": [
         {
          "active": 0,
          "buttons": [
           {
            "args": [
             {
              "visible": [
               true,
               false,
               false,
               false,
               false,
               false
              ]
             }
            ],
            "label": "filetrust/mvp-icap-service",
            "method": "update"
           },
           {
            "args": [
             {
              "visible": [
               false,
               true,
               false,
               false,
               false,
               false
              ]
             }
            ],
            "label": "filetrust/mvp-icap-cloud",
            "method": "update"
           },
           {
            "args": [
             {
              "visible": [
               false,
               false,
               true,
               false,
               false,
               false
              ]
             }
            ],
            "label": "filetrust/mvp-icap-squid-cache-proxy",
            "method": "update"
           },
           {
            "args": [
             {
              "visible": [
               false,
               false,
               false,
               true,
               false,
               false
              ]
             }
            ],
            "label": "filetrust/rebuild-k8s-filetypedetection",
            "method": "update"
           },
           {
            "args": [
             {
              "visible": [
               false,
               false,
               false,
               false,
               true,
               false
              ]
             }
            ],
            "label": "filetrust/icap-performance-tests",
            "method": "update"
           },
           {
            "args": [
             {
              "visible": [
               false,
               false,
               false,
               false,
               false,
               true
              ]
             }
            ],
            "label": "filetrust/rebuild-k8s",
            "method": "update"
           }
          ],
          "x": 0.75,
          "y": 2
         }
        ]
       }
      }
     },
     "metadata": {}
    }
   ],
   "source": [
    "# Initial repo_list used for development.\n",
    "repo_list = ['filetrust/mvp-icap-service',\n",
    "            'filetrust/mvp-icap-cloud',\n",
    "            'filetrust/mvp-icap-squid-cache-proxy',\n",
    "            'filetrust/rebuild-k8s-filetypedetection',\n",
    "            'filetrust/icap-performance-tests',\n",
    "            'filetrust/rebuild-k8s']\n",
    "GithubIssues().set_repos(repo_list).plot_total()"
   ]
  },
  {
   "cell_type": "code",
   "execution_count": null,
   "metadata": {},
   "outputs": [],
   "source": []
  }
 ]
}